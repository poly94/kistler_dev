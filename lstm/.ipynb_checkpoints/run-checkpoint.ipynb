{
 "cells": [
  {
   "cell_type": "code",
   "execution_count": 2,
   "id": "a6795fa8-482e-4160-a293-51f5b03ec8b2",
   "metadata": {},
   "outputs": [
    {
     "name": "stderr",
     "output_type": "stream",
     "text": [
      "Traceback (most recent call last):\n",
      "  File \"run.py\", line 92, in <module>\n",
      "    main()\n",
      "  File \"run.py\", line 38, in main\n",
      "    configs = json.load(open('/content/mega/develop/LSTM-Neural-Network-for-Time-Series-Prediction-master/config.json', 'r'))\n",
      "FileNotFoundError: [Errno 2] No such file or directory: '/content/mega/develop/LSTM-Neural-Network-for-Time-Series-Prediction-master/config.json'\n"
     ]
    }
   ],
   "source": [
    "!python run.py"
   ]
  }
 ],
 "metadata": {
  "kernelspec": {
   "display_name": "Python 3",
   "language": "python",
   "name": "python3"
  },
  "language_info": {
   "codemirror_mode": {
    "name": "ipython",
    "version": 3
   },
   "file_extension": ".py",
   "mimetype": "text/x-python",
   "name": "python",
   "nbconvert_exporter": "python",
   "pygments_lexer": "ipython3",
   "version": "3.8.8"
  }
 },
 "nbformat": 4,
 "nbformat_minor": 5
}
